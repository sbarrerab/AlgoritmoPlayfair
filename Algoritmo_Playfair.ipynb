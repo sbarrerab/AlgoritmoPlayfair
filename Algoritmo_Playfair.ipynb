{
  "nbformat": 4,
  "nbformat_minor": 0,
  "metadata": {
    "colab": {
      "provenance": []
    },
    "kernelspec": {
      "name": "python3",
      "display_name": "Python 3"
    },
    "language_info": {
      "name": "python"
    }
  },
  "cells": [
    {
      "cell_type": "markdown",
      "source": [
        "# Implementación el algoritmo Playfair en Python.\n",
        "\n"
      ],
      "metadata": {
        "id": "3GBkoxOAy-w0"
      }
    },
    {
      "cell_type": "markdown",
      "source": [
        "## Definición de las funciones\n",
        "Definición de la matriz de cifrado/descifrado con base a la clave."
      ],
      "metadata": {
        "id": "M-qFDkPaoVsy"
      }
    },
    {
      "cell_type": "code",
      "source": [
        "def crear_matriz_clave(clave):\n",
        "    # Convertimos la clave a mayúsculas y reemplazamos 'J' por 'I' (Playfair usa solo 25 letras)\n",
        "    clave = clave.upper().replace(\"J\", \"I\")\n",
        "    matriz = []\n",
        "    usada = set()\n",
        "\n",
        "    # Agregamos las letras de la clave sin repetir\n",
        "    for letra in clave:\n",
        "        if letra not in usada and letra.isalpha():\n",
        "            matriz.append(letra)\n",
        "            usada.add(letra)\n",
        "\n",
        "    # Completamos la matriz con las demás letras del alfabeto que no están en la clave\n",
        "    for letra in \"ABCDEFGHIKLMNOPQRSTUVWXYZ\":  # Nota: la 'J' se excluye\n",
        "        if letra not in usada:\n",
        "            matriz.append(letra)\n",
        "\n",
        "    # Devolvemos la matriz en forma de lista de listas (5x5)\n",
        "    return [matriz[i*5:(i+1)*5] for i in range(5)]"
      ],
      "metadata": {
        "id": "FB-hTv0Hoi9q"
      },
      "execution_count": 1,
      "outputs": []
    },
    {
      "cell_type": "markdown",
      "source": [
        "Función para encontrar la posicón del caracter dentro de la matriz."
      ],
      "metadata": {
        "id": "q_TnKXMCoiGw"
      }
    },
    {
      "cell_type": "code",
      "source": [
        "def encontrar_posicion(matriz, letra):\n",
        "    # Busca la posición (fila, columna) de una letra en la matriz\n",
        "    for fila in range(5):\n",
        "        for col in range(5):\n",
        "            if matriz[fila][col] == letra:\n",
        "                return fila, col\n",
        "    return None"
      ],
      "metadata": {
        "id": "6Yl6rXeGouU5"
      },
      "execution_count": 2,
      "outputs": []
    },
    {
      "cell_type": "markdown",
      "source": [
        "Función para preparar/limpiar el texto que será cifrado."
      ],
      "metadata": {
        "id": "bzBNR7N2o6MT"
      }
    },
    {
      "cell_type": "code",
      "source": [
        "def preparar_texto(texto, es_cifrar=True):\n",
        "    # Convierte el texto a mayúsculas y reemplaza 'J' por 'I'\n",
        "    texto = texto.upper().replace(\"J\", \"I\")\n",
        "    # Elimina todos los caracteres que no son letras\n",
        "    texto = ''.join(filter(str.isalpha, texto))\n",
        "\n",
        "    if es_cifrar:\n",
        "        # Prepara los pares de letras, agregando 'X' si hay letras repetidas\n",
        "        i = 0\n",
        "        resultado = \"\"\n",
        "        while i < len(texto):\n",
        "            a = texto[i]\n",
        "            # Si queda una letra sola al final, se empareja con 'X'\n",
        "            b = texto[i+1] if i + 1 < len(texto) else \"X\"\n",
        "            if a == b:\n",
        "                # Si el par es de letras iguales, se inserta una 'X' entre ellas\n",
        "                resultado += a + \"X\"\n",
        "                i += 1\n",
        "            else:\n",
        "                resultado += a + b\n",
        "                i += 2\n",
        "        # Si la longitud del resultado es impar, agregamos 'X' al final\n",
        "        if len(resultado) % 2 != 0:\n",
        "            resultado += \"X\"\n",
        "        return resultado\n",
        "    else:\n",
        "        # Para descifrar, solo se limpian los caracteres no alfabéticos\n",
        "        return texto"
      ],
      "metadata": {
        "id": "5D4i49uipLk9"
      },
      "execution_count": 3,
      "outputs": []
    },
    {
      "cell_type": "markdown",
      "source": [
        "Funciuón para determinar los pares de caracteres que establecen las 3 reglas básicas que rigen al algoritmo."
      ],
      "metadata": {
        "id": "bfq5e3_epTxM"
      }
    },
    {
      "cell_type": "code",
      "source": [
        "def procesar_pares(mensaje, matriz, cifrar=True):\n",
        "    resultado = \"\"\n",
        "    paso = 1 if cifrar else -1  # Determina si se mueve hacia la derecha o izquierda (cifrar o descifrar)\n",
        "\n",
        "    # Recorremos el mensaje de dos en dos caracteres\n",
        "    for i in range(0, len(mensaje), 2):\n",
        "        a, b = mensaje[i], mensaje[i+1]\n",
        "        fila_a, col_a = encontrar_posicion(matriz, a)\n",
        "        fila_b, col_b = encontrar_posicion(matriz, b)\n",
        "\n",
        "        # Si están en la misma fila\n",
        "        if fila_a == fila_b:\n",
        "            resultado += matriz[fila_a][(col_a + paso) % 5]\n",
        "            resultado += matriz[fila_b][(col_b + paso) % 5]\n",
        "        # Si están en la misma columna\n",
        "        elif col_a == col_b:\n",
        "            resultado += matriz[(fila_a + paso) % 5][col_a]\n",
        "            resultado += matriz[(fila_b + paso) % 5][col_b]\n",
        "        # Si forman un rectángulo\n",
        "        else:\n",
        "            resultado += matriz[fila_a][col_b]\n",
        "            resultado += matriz[fila_b][col_a]\n",
        "\n",
        "    return resultado"
      ],
      "metadata": {
        "id": "FqYWfhu1pbPS"
      },
      "execution_count": 4,
      "outputs": []
    },
    {
      "cell_type": "markdown",
      "source": [
        "Función para cifrar cuando el parámetro es igual a 1."
      ],
      "metadata": {
        "id": "zPFH-klMq2Bw"
      }
    },
    {
      "cell_type": "code",
      "source": [
        "def playfair_cipher(mensaje, clave, modo):\n",
        "    matriz = crear_matriz_clave(clave)\n",
        "\n",
        "    if modo == 1:  # Cifrado\n",
        "        texto_preparado = preparar_texto(mensaje, es_cifrar=True)\n",
        "        return procesar_pares(texto_preparado, matriz, cifrar=True)\n",
        "    elif modo == 0:  # Descifrado\n",
        "        mensaje_limpio = ''.join(filter(str.isalpha, mensaje.upper().replace(\"J\", \"I\")))\n",
        "        return procesar_pares(mensaje_limpio, matriz, cifrar=False)\n",
        "    else:\n",
        "        raise ValueError(\"Modo inválido. Usa 1 para cifrar o 0 para descifrar.\")"
      ],
      "metadata": {
        "id": "t9XzisHQq6gC"
      },
      "execution_count": 28,
      "outputs": []
    },
    {
      "cell_type": "markdown",
      "source": [
        "Generación aleatoria del mensaje y la clave"
      ],
      "metadata": {
        "id": "0lqbv8aR2RbK"
      }
    },
    {
      "cell_type": "code",
      "source": [
        "def generar_cadena_aleatoria(longitud):\n",
        "    return ''.join(random.choices(string.ascii_letters, k=longitud))"
      ],
      "metadata": {
        "id": "OSVV9__m2R9r"
      },
      "execution_count": 29,
      "outputs": []
    },
    {
      "cell_type": "markdown",
      "source": [
        "##Ejemplo de uso\n",
        "\n",
        "Para este ejemplo la llave y el mensaje se generarán de forma aleatoria con una longitud máxima de 10, para validar que el programa funcione correctamente con cualquier secuencia de caracteres independientemente de su longitud."
      ],
      "metadata": {
        "id": "35hQxCKCpjfc"
      }
    },
    {
      "cell_type": "markdown",
      "source": [
        "Establecer longitudes aleatorias entre 1 y 10 para la generación del mensaje claro y de la clave."
      ],
      "metadata": {
        "id": "m5W4G5wF2rHc"
      }
    },
    {
      "cell_type": "code",
      "source": [
        "import random\n",
        "import string\n",
        "\n",
        "longitud_mensaje = random.randint(1, 10)\n",
        "longitud_clave = random.randint(1, 10)"
      ],
      "metadata": {
        "id": "RD-YgqiUqFij"
      },
      "execution_count": 30,
      "outputs": []
    },
    {
      "cell_type": "markdown",
      "source": [
        "Generación aleatoria del mensaje claro y de la clave."
      ],
      "metadata": {
        "id": "VVw2q3vRrQNa"
      }
    },
    {
      "cell_type": "code",
      "source": [
        "mensaje_claro = generar_cadena_aleatoria(longitud_mensaje)\n",
        "clave = generar_cadena_aleatoria(longitud_clave)\n",
        "\n",
        "print(f\"Mensaje claro generado: {mensaje_claro}\")\n",
        "print(f\"Clave generada: {clave}\")"
      ],
      "metadata": {
        "id": "bf-JQMfhqCGs",
        "colab": {
          "base_uri": "https://localhost:8080/"
        },
        "outputId": "fe2c33a9-0007-46a3-8d9e-53459d782b09"
      },
      "execution_count": 55,
      "outputs": [
        {
          "output_type": "stream",
          "name": "stdout",
          "text": [
            "Mensaje claro generado: dFnqArNVa\n",
            "Clave generada: aHecuteU\n"
          ]
        }
      ]
    },
    {
      "cell_type": "markdown",
      "source": [
        "Generar el cifrado del texto claro con base a la llave correspondiente (Parámetro 1)."
      ],
      "metadata": {
        "id": "eT7R9R4krJWz"
      }
    },
    {
      "cell_type": "code",
      "execution_count": 66,
      "metadata": {
        "colab": {
          "base_uri": "https://localhost:8080/"
        },
        "id": "5v4HeS5MoDC-",
        "outputId": "2dec97b0-8713-417f-8abd-51ad62db35d3"
      },
      "outputs": [
        {
          "output_type": "stream",
          "name": "stdout",
          "text": [
            "Cifrado: FGLSCOIZEV\n"
          ]
        }
      ],
      "source": [
        "mensaje_cifrado = playfair_cipher(mensaje_claro, clave, 1)\n",
        "print(\"Cifrado:\", mensaje_cifrado)"
      ]
    },
    {
      "cell_type": "markdown",
      "source": [
        "Generar el descifrado del texto claro empleando a la llave correspondiente (Parámetro 0)."
      ],
      "metadata": {
        "id": "PFfLAg80rinK"
      }
    },
    {
      "cell_type": "code",
      "source": [
        "mensaje_descifrado = playfair_cipher(mensaje_cifrado, clave, 0)\n",
        "print(\"Descifrado:\", mensaje_descifrado)"
      ],
      "metadata": {
        "colab": {
          "base_uri": "https://localhost:8080/"
        },
        "id": "G_m9J3SprjLM",
        "outputId": "29c0043d-9689-4dfd-8231-494cc4b91057"
      },
      "execution_count": 67,
      "outputs": [
        {
          "output_type": "stream",
          "name": "stdout",
          "text": [
            "Descifrado: DFNQARNVAX\n"
          ]
        }
      ]
    }
  ]
}